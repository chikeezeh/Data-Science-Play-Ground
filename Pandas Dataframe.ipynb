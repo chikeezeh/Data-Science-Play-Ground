{
 "cells": [
  {
   "cell_type": "code",
   "execution_count": 2,
   "metadata": {
    "collapsed": true
   },
   "outputs": [],
   "source": [
    "import numpy as np"
   ]
  },
  {
   "cell_type": "code",
   "execution_count": 3,
   "metadata": {
    "collapsed": true
   },
   "outputs": [],
   "source": [
    "import pandas as pd"
   ]
  },
  {
   "cell_type": "code",
   "execution_count": 4,
   "metadata": {
    "collapsed": true
   },
   "outputs": [],
   "source": [
    "from numpy.random import randn\n"
   ]
  },
  {
   "cell_type": "code",
   "execution_count": 5,
   "metadata": {
    "collapsed": true
   },
   "outputs": [],
   "source": [
    "np.random.seed(101)"
   ]
  },
  {
   "cell_type": "code",
   "execution_count": 6,
   "metadata": {
    "collapsed": true
   },
   "outputs": [],
   "source": [
    "df = pd.DataFrame(randn(5,4),['A','B','C','D','E'],['W','X','Y','Z'])"
   ]
  },
  {
   "cell_type": "code",
   "execution_count": 7,
   "metadata": {},
   "outputs": [
    {
     "data": {
      "text/html": [
       "<div>\n",
       "<style>\n",
       "    .dataframe thead tr:only-child th {\n",
       "        text-align: right;\n",
       "    }\n",
       "\n",
       "    .dataframe thead th {\n",
       "        text-align: left;\n",
       "    }\n",
       "\n",
       "    .dataframe tbody tr th {\n",
       "        vertical-align: top;\n",
       "    }\n",
       "</style>\n",
       "<table border=\"1\" class=\"dataframe\">\n",
       "  <thead>\n",
       "    <tr style=\"text-align: right;\">\n",
       "      <th></th>\n",
       "      <th>W</th>\n",
       "      <th>X</th>\n",
       "      <th>Y</th>\n",
       "      <th>Z</th>\n",
       "    </tr>\n",
       "  </thead>\n",
       "  <tbody>\n",
       "    <tr>\n",
       "      <th>A</th>\n",
       "      <td>2.706850</td>\n",
       "      <td>0.628133</td>\n",
       "      <td>0.907969</td>\n",
       "      <td>0.503826</td>\n",
       "    </tr>\n",
       "    <tr>\n",
       "      <th>B</th>\n",
       "      <td>0.651118</td>\n",
       "      <td>-0.319318</td>\n",
       "      <td>-0.848077</td>\n",
       "      <td>0.605965</td>\n",
       "    </tr>\n",
       "    <tr>\n",
       "      <th>C</th>\n",
       "      <td>-2.018168</td>\n",
       "      <td>0.740122</td>\n",
       "      <td>0.528813</td>\n",
       "      <td>-0.589001</td>\n",
       "    </tr>\n",
       "    <tr>\n",
       "      <th>D</th>\n",
       "      <td>0.188695</td>\n",
       "      <td>-0.758872</td>\n",
       "      <td>-0.933237</td>\n",
       "      <td>0.955057</td>\n",
       "    </tr>\n",
       "    <tr>\n",
       "      <th>E</th>\n",
       "      <td>0.190794</td>\n",
       "      <td>1.978757</td>\n",
       "      <td>2.605967</td>\n",
       "      <td>0.683509</td>\n",
       "    </tr>\n",
       "  </tbody>\n",
       "</table>\n",
       "</div>"
      ],
      "text/plain": [
       "          W         X         Y         Z\n",
       "A  2.706850  0.628133  0.907969  0.503826\n",
       "B  0.651118 -0.319318 -0.848077  0.605965\n",
       "C -2.018168  0.740122  0.528813 -0.589001\n",
       "D  0.188695 -0.758872 -0.933237  0.955057\n",
       "E  0.190794  1.978757  2.605967  0.683509"
      ]
     },
     "execution_count": 7,
     "metadata": {},
     "output_type": "execute_result"
    }
   ],
   "source": [
    "df"
   ]
  },
  {
   "cell_type": "code",
   "execution_count": 8,
   "metadata": {},
   "outputs": [
    {
     "data": {
      "text/plain": [
       "A    2.706850\n",
       "B    0.651118\n",
       "C   -2.018168\n",
       "D    0.188695\n",
       "E    0.190794\n",
       "Name: W, dtype: float64"
      ]
     },
     "execution_count": 8,
     "metadata": {},
     "output_type": "execute_result"
    }
   ],
   "source": [
    "df['W']"
   ]
  },
  {
   "cell_type": "code",
   "execution_count": 9,
   "metadata": {},
   "outputs": [
    {
     "data": {
      "text/plain": [
       "pandas.core.frame.DataFrame"
      ]
     },
     "execution_count": 9,
     "metadata": {},
     "output_type": "execute_result"
    }
   ],
   "source": [
    "type(df)"
   ]
  },
  {
   "cell_type": "code",
   "execution_count": 10,
   "metadata": {},
   "outputs": [
    {
     "data": {
      "text/html": [
       "<div>\n",
       "<style>\n",
       "    .dataframe thead tr:only-child th {\n",
       "        text-align: right;\n",
       "    }\n",
       "\n",
       "    .dataframe thead th {\n",
       "        text-align: left;\n",
       "    }\n",
       "\n",
       "    .dataframe tbody tr th {\n",
       "        vertical-align: top;\n",
       "    }\n",
       "</style>\n",
       "<table border=\"1\" class=\"dataframe\">\n",
       "  <thead>\n",
       "    <tr style=\"text-align: right;\">\n",
       "      <th></th>\n",
       "      <th>X</th>\n",
       "      <th>W</th>\n",
       "    </tr>\n",
       "  </thead>\n",
       "  <tbody>\n",
       "    <tr>\n",
       "      <th>A</th>\n",
       "      <td>0.628133</td>\n",
       "      <td>2.706850</td>\n",
       "    </tr>\n",
       "    <tr>\n",
       "      <th>B</th>\n",
       "      <td>-0.319318</td>\n",
       "      <td>0.651118</td>\n",
       "    </tr>\n",
       "    <tr>\n",
       "      <th>C</th>\n",
       "      <td>0.740122</td>\n",
       "      <td>-2.018168</td>\n",
       "    </tr>\n",
       "    <tr>\n",
       "      <th>D</th>\n",
       "      <td>-0.758872</td>\n",
       "      <td>0.188695</td>\n",
       "    </tr>\n",
       "    <tr>\n",
       "      <th>E</th>\n",
       "      <td>1.978757</td>\n",
       "      <td>0.190794</td>\n",
       "    </tr>\n",
       "  </tbody>\n",
       "</table>\n",
       "</div>"
      ],
      "text/plain": [
       "          X         W\n",
       "A  0.628133  2.706850\n",
       "B -0.319318  0.651118\n",
       "C  0.740122 -2.018168\n",
       "D -0.758872  0.188695\n",
       "E  1.978757  0.190794"
      ]
     },
     "execution_count": 10,
     "metadata": {},
     "output_type": "execute_result"
    }
   ],
   "source": [
    "df[['X','W']]"
   ]
  },
  {
   "cell_type": "code",
   "execution_count": 11,
   "metadata": {},
   "outputs": [
    {
     "data": {
      "text/html": [
       "<style  type=\"text/css\" >\n",
       "</style>  \n",
       "<table id=\"T_7f0f87ec_b836_11e7_be34_b886875a8410\" > \n",
       "<thead>    <tr> \n",
       "        <th class=\"blank level0\" ></th> \n",
       "        <th class=\"col_heading level0 col0\" >W</th> \n",
       "        <th class=\"col_heading level0 col1\" >X</th> \n",
       "        <th class=\"col_heading level0 col2\" >Y</th> \n",
       "        <th class=\"col_heading level0 col3\" >Z</th> \n",
       "    </tr></thead> \n",
       "<tbody>    <tr> \n",
       "        <th id=\"T_7f0f87ec_b836_11e7_be34_b886875a8410level0_row0\" class=\"row_heading level0 row0\" >A</th> \n",
       "        <td id=\"T_7f0f87ec_b836_11e7_be34_b886875a8410row0_col0\" class=\"data row0 col0\" >2.70685</td> \n",
       "        <td id=\"T_7f0f87ec_b836_11e7_be34_b886875a8410row0_col1\" class=\"data row0 col1\" >0.628133</td> \n",
       "        <td id=\"T_7f0f87ec_b836_11e7_be34_b886875a8410row0_col2\" class=\"data row0 col2\" >0.907969</td> \n",
       "        <td id=\"T_7f0f87ec_b836_11e7_be34_b886875a8410row0_col3\" class=\"data row0 col3\" >0.503826</td> \n",
       "    </tr>    <tr> \n",
       "        <th id=\"T_7f0f87ec_b836_11e7_be34_b886875a8410level0_row1\" class=\"row_heading level0 row1\" >B</th> \n",
       "        <td id=\"T_7f0f87ec_b836_11e7_be34_b886875a8410row1_col0\" class=\"data row1 col0\" >0.651118</td> \n",
       "        <td id=\"T_7f0f87ec_b836_11e7_be34_b886875a8410row1_col1\" class=\"data row1 col1\" >-0.319318</td> \n",
       "        <td id=\"T_7f0f87ec_b836_11e7_be34_b886875a8410row1_col2\" class=\"data row1 col2\" >-0.848077</td> \n",
       "        <td id=\"T_7f0f87ec_b836_11e7_be34_b886875a8410row1_col3\" class=\"data row1 col3\" >0.605965</td> \n",
       "    </tr>    <tr> \n",
       "        <th id=\"T_7f0f87ec_b836_11e7_be34_b886875a8410level0_row2\" class=\"row_heading level0 row2\" >C</th> \n",
       "        <td id=\"T_7f0f87ec_b836_11e7_be34_b886875a8410row2_col0\" class=\"data row2 col0\" >-2.01817</td> \n",
       "        <td id=\"T_7f0f87ec_b836_11e7_be34_b886875a8410row2_col1\" class=\"data row2 col1\" >0.740122</td> \n",
       "        <td id=\"T_7f0f87ec_b836_11e7_be34_b886875a8410row2_col2\" class=\"data row2 col2\" >0.528813</td> \n",
       "        <td id=\"T_7f0f87ec_b836_11e7_be34_b886875a8410row2_col3\" class=\"data row2 col3\" >-0.589001</td> \n",
       "    </tr>    <tr> \n",
       "        <th id=\"T_7f0f87ec_b836_11e7_be34_b886875a8410level0_row3\" class=\"row_heading level0 row3\" >D</th> \n",
       "        <td id=\"T_7f0f87ec_b836_11e7_be34_b886875a8410row3_col0\" class=\"data row3 col0\" >0.188695</td> \n",
       "        <td id=\"T_7f0f87ec_b836_11e7_be34_b886875a8410row3_col1\" class=\"data row3 col1\" >-0.758872</td> \n",
       "        <td id=\"T_7f0f87ec_b836_11e7_be34_b886875a8410row3_col2\" class=\"data row3 col2\" >-0.933237</td> \n",
       "        <td id=\"T_7f0f87ec_b836_11e7_be34_b886875a8410row3_col3\" class=\"data row3 col3\" >0.955057</td> \n",
       "    </tr>    <tr> \n",
       "        <th id=\"T_7f0f87ec_b836_11e7_be34_b886875a8410level0_row4\" class=\"row_heading level0 row4\" >E</th> \n",
       "        <td id=\"T_7f0f87ec_b836_11e7_be34_b886875a8410row4_col0\" class=\"data row4 col0\" >0.190794</td> \n",
       "        <td id=\"T_7f0f87ec_b836_11e7_be34_b886875a8410row4_col1\" class=\"data row4 col1\" >1.97876</td> \n",
       "        <td id=\"T_7f0f87ec_b836_11e7_be34_b886875a8410row4_col2\" class=\"data row4 col2\" >2.60597</td> \n",
       "        <td id=\"T_7f0f87ec_b836_11e7_be34_b886875a8410row4_col3\" class=\"data row4 col3\" >0.683509</td> \n",
       "    </tr></tbody> \n",
       "</table> "
      ],
      "text/plain": [
       "<pandas.io.formats.style.Styler at 0x166173b5828>"
      ]
     },
     "execution_count": 11,
     "metadata": {},
     "output_type": "execute_result"
    }
   ],
   "source": [
    "df.style\n"
   ]
  },
  {
   "cell_type": "code",
   "execution_count": 14,
   "metadata": {},
   "outputs": [],
   "source": [
    "def color_negative_red(val):\n",
    "    color = 'red' if val < 0 else 'black'\n",
    "    return 'color: %s' %color"
   ]
  },
  {
   "cell_type": "code",
   "execution_count": null,
   "metadata": {
    "collapsed": true
   },
   "outputs": [],
   "source": []
  },
  {
   "cell_type": "code",
   "execution_count": null,
   "metadata": {
    "collapsed": true
   },
   "outputs": [],
   "source": []
  }
 ],
 "metadata": {
  "kernelspec": {
   "display_name": "Python 3",
   "language": "python",
   "name": "python3"
  },
  "language_info": {
   "codemirror_mode": {
    "name": "ipython",
    "version": 3
   },
   "file_extension": ".py",
   "mimetype": "text/x-python",
   "name": "python",
   "nbconvert_exporter": "python",
   "pygments_lexer": "ipython3",
   "version": "3.6.2"
  }
 },
 "nbformat": 4,
 "nbformat_minor": 2
}
